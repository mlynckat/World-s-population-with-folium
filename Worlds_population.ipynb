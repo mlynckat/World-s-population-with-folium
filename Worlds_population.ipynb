{
 "cells": [
  {
   "cell_type": "markdown",
   "metadata": {},
   "source": [
    "\n",
    "# Exploration of a DataSet World's Population\n"
   ]
  },
  {
   "cell_type": "markdown",
   "metadata": {},
   "source": [
    "### 1. Importing the libraries and necessary DataSets (World's population, Countries geographically for Folium)"
   ]
  },
  {
   "cell_type": "code",
   "execution_count": 10,
   "metadata": {
    "collapsed": false
   },
   "outputs": [
    {
     "data": {
      "text/html": [
       "<div>\n",
       "<table border=\"1\" class=\"dataframe\">\n",
       "  <thead>\n",
       "    <tr style=\"text-align: right;\">\n",
       "      <th></th>\n",
       "      <th>Country Name</th>\n",
       "      <th>Country Code</th>\n",
       "      <th>Indicator Name</th>\n",
       "      <th>Indicator Code</th>\n",
       "      <th>1960</th>\n",
       "      <th>1961</th>\n",
       "      <th>1962</th>\n",
       "      <th>1963</th>\n",
       "      <th>1964</th>\n",
       "      <th>1965</th>\n",
       "      <th>...</th>\n",
       "      <th>2008</th>\n",
       "      <th>2009</th>\n",
       "      <th>2010</th>\n",
       "      <th>2011</th>\n",
       "      <th>2012</th>\n",
       "      <th>2013</th>\n",
       "      <th>2014</th>\n",
       "      <th>2015</th>\n",
       "      <th>2016</th>\n",
       "      <th>Unnamed: 61</th>\n",
       "    </tr>\n",
       "  </thead>\n",
       "  <tbody>\n",
       "    <tr>\n",
       "      <th>0</th>\n",
       "      <td>Aruba</td>\n",
       "      <td>ABW</td>\n",
       "      <td>Population, total</td>\n",
       "      <td>SP.POP.TOTL</td>\n",
       "      <td>54211.0</td>\n",
       "      <td>55438.0</td>\n",
       "      <td>56225.0</td>\n",
       "      <td>56695.0</td>\n",
       "      <td>57032.0</td>\n",
       "      <td>57360.0</td>\n",
       "      <td>...</td>\n",
       "      <td>101353.0</td>\n",
       "      <td>101453.0</td>\n",
       "      <td>101669.0</td>\n",
       "      <td>102053.0</td>\n",
       "      <td>102577.0</td>\n",
       "      <td>103187.0</td>\n",
       "      <td>103795.0</td>\n",
       "      <td>104341.0</td>\n",
       "      <td>104822.0</td>\n",
       "      <td>NaN</td>\n",
       "    </tr>\n",
       "    <tr>\n",
       "      <th>1</th>\n",
       "      <td>Afghanistan</td>\n",
       "      <td>AFG</td>\n",
       "      <td>Population, total</td>\n",
       "      <td>SP.POP.TOTL</td>\n",
       "      <td>8996351.0</td>\n",
       "      <td>9166764.0</td>\n",
       "      <td>9345868.0</td>\n",
       "      <td>9533954.0</td>\n",
       "      <td>9731361.0</td>\n",
       "      <td>9938414.0</td>\n",
       "      <td>...</td>\n",
       "      <td>27294031.0</td>\n",
       "      <td>28004331.0</td>\n",
       "      <td>28803167.0</td>\n",
       "      <td>29708599.0</td>\n",
       "      <td>30696958.0</td>\n",
       "      <td>31731688.0</td>\n",
       "      <td>32758020.0</td>\n",
       "      <td>33736494.0</td>\n",
       "      <td>34656032.0</td>\n",
       "      <td>NaN</td>\n",
       "    </tr>\n",
       "    <tr>\n",
       "      <th>2</th>\n",
       "      <td>Angola</td>\n",
       "      <td>AGO</td>\n",
       "      <td>Population, total</td>\n",
       "      <td>SP.POP.TOTL</td>\n",
       "      <td>5643182.0</td>\n",
       "      <td>5753024.0</td>\n",
       "      <td>5866061.0</td>\n",
       "      <td>5980417.0</td>\n",
       "      <td>6093321.0</td>\n",
       "      <td>6203299.0</td>\n",
       "      <td>...</td>\n",
       "      <td>21759420.0</td>\n",
       "      <td>22549547.0</td>\n",
       "      <td>23369131.0</td>\n",
       "      <td>24218565.0</td>\n",
       "      <td>25096150.0</td>\n",
       "      <td>25998340.0</td>\n",
       "      <td>26920466.0</td>\n",
       "      <td>27859305.0</td>\n",
       "      <td>28813463.0</td>\n",
       "      <td>NaN</td>\n",
       "    </tr>\n",
       "    <tr>\n",
       "      <th>3</th>\n",
       "      <td>Albania</td>\n",
       "      <td>ALB</td>\n",
       "      <td>Population, total</td>\n",
       "      <td>SP.POP.TOTL</td>\n",
       "      <td>1608800.0</td>\n",
       "      <td>1659800.0</td>\n",
       "      <td>1711319.0</td>\n",
       "      <td>1762621.0</td>\n",
       "      <td>1814135.0</td>\n",
       "      <td>1864791.0</td>\n",
       "      <td>...</td>\n",
       "      <td>2947314.0</td>\n",
       "      <td>2927519.0</td>\n",
       "      <td>2913021.0</td>\n",
       "      <td>2905195.0</td>\n",
       "      <td>2900401.0</td>\n",
       "      <td>2895092.0</td>\n",
       "      <td>2889104.0</td>\n",
       "      <td>2880703.0</td>\n",
       "      <td>2876101.0</td>\n",
       "      <td>NaN</td>\n",
       "    </tr>\n",
       "    <tr>\n",
       "      <th>4</th>\n",
       "      <td>Andorra</td>\n",
       "      <td>AND</td>\n",
       "      <td>Population, total</td>\n",
       "      <td>SP.POP.TOTL</td>\n",
       "      <td>13411.0</td>\n",
       "      <td>14375.0</td>\n",
       "      <td>15370.0</td>\n",
       "      <td>16412.0</td>\n",
       "      <td>17469.0</td>\n",
       "      <td>18549.0</td>\n",
       "      <td>...</td>\n",
       "      <td>83861.0</td>\n",
       "      <td>84462.0</td>\n",
       "      <td>84449.0</td>\n",
       "      <td>83751.0</td>\n",
       "      <td>82431.0</td>\n",
       "      <td>80788.0</td>\n",
       "      <td>79223.0</td>\n",
       "      <td>78014.0</td>\n",
       "      <td>77281.0</td>\n",
       "      <td>NaN</td>\n",
       "    </tr>\n",
       "  </tbody>\n",
       "</table>\n",
       "<p>5 rows × 62 columns</p>\n",
       "</div>"
      ],
      "text/plain": [
       "  Country Name Country Code     Indicator Name Indicator Code       1960  \\\n",
       "0        Aruba          ABW  Population, total    SP.POP.TOTL    54211.0   \n",
       "1  Afghanistan          AFG  Population, total    SP.POP.TOTL  8996351.0   \n",
       "2       Angola          AGO  Population, total    SP.POP.TOTL  5643182.0   \n",
       "3      Albania          ALB  Population, total    SP.POP.TOTL  1608800.0   \n",
       "4      Andorra          AND  Population, total    SP.POP.TOTL    13411.0   \n",
       "\n",
       "        1961       1962       1963       1964       1965     ...       \\\n",
       "0    55438.0    56225.0    56695.0    57032.0    57360.0     ...        \n",
       "1  9166764.0  9345868.0  9533954.0  9731361.0  9938414.0     ...        \n",
       "2  5753024.0  5866061.0  5980417.0  6093321.0  6203299.0     ...        \n",
       "3  1659800.0  1711319.0  1762621.0  1814135.0  1864791.0     ...        \n",
       "4    14375.0    15370.0    16412.0    17469.0    18549.0     ...        \n",
       "\n",
       "         2008        2009        2010        2011        2012        2013  \\\n",
       "0    101353.0    101453.0    101669.0    102053.0    102577.0    103187.0   \n",
       "1  27294031.0  28004331.0  28803167.0  29708599.0  30696958.0  31731688.0   \n",
       "2  21759420.0  22549547.0  23369131.0  24218565.0  25096150.0  25998340.0   \n",
       "3   2947314.0   2927519.0   2913021.0   2905195.0   2900401.0   2895092.0   \n",
       "4     83861.0     84462.0     84449.0     83751.0     82431.0     80788.0   \n",
       "\n",
       "         2014        2015        2016  Unnamed: 61  \n",
       "0    103795.0    104341.0    104822.0          NaN  \n",
       "1  32758020.0  33736494.0  34656032.0          NaN  \n",
       "2  26920466.0  27859305.0  28813463.0          NaN  \n",
       "3   2889104.0   2880703.0   2876101.0          NaN  \n",
       "4     79223.0     78014.0     77281.0          NaN  \n",
       "\n",
       "[5 rows x 62 columns]"
      ]
     },
     "execution_count": 10,
     "metadata": {},
     "output_type": "execute_result"
    }
   ],
   "source": [
    "import pandas as pd\n",
    "import folium\n",
    "import numpy as np\n",
    "import matplotlib.pyplot as plt\n",
    "import json\n",
    "data = pd.read_csv('./data_population.csv', sep=',', skiprows = 1, header = 1)\n",
    "country_geo = json.dumps(json.load(open('world-countries.json', 'r'))) #data for representing countries as a map\n",
    "\n",
    "data.head()"
   ]
  },
  {
   "cell_type": "markdown",
   "metadata": {},
   "source": [
    "### 2. Data visualisation using Folium"
   ]
  },
  {
   "cell_type": "code",
   "execution_count": 21,
   "metadata": {
    "collapsed": false
   },
   "outputs": [
    {
     "data": {
      "text/html": [
       "<iframe src=plot_world.html width=700 height=450></iframe>"
      ],
      "text/plain": [
       "<IPython.core.display.HTML object>"
      ]
     },
     "execution_count": 21,
     "metadata": {},
     "output_type": "execute_result"
    }
   ],
   "source": [
    "from IPython.display import HTML\n",
    "\n",
    "def draw_the_map(year):\n",
    "    \n",
    "    '''function for drawing the map and assignment of the colors'''\n",
    "    \n",
    "    threshold = np.linspace(data[year].min(), 1500000000, 6, dtype = int).tolist()\n",
    "    map_world = folium.Map(location=[30, 0], zoom_start=1)\n",
    "    map_world.choropleth(geo_data=country_geo, name='choropleth', data=data, columns=['Country Code', year], key_on='feature.id', fill_color='YlGnBu', fill_opacity=0.7, line_opacity=0.2, threshold_scale = threshold)\n",
    "    #map_world.save('plot_world.html') #is commented out for demo reasons\n",
    "\n",
    "    return HTML('<iframe src=https://github.com/mlynckat/World-s-population-with-folium/blob/master/plot_world.html width=700 height=450></iframe>')\n",
    "\n",
    "draw_the_map(\"2015\")"
   ]
  },
  {
   "cell_type": "markdown",
   "metadata": {},
   "source": [
    "Unfortunately this way of visualisation is not meaningful. The map is only providing the information that China and India have the most population, followed by the USA. All the other countries are still in the same segment 10'000-300'000'000. To get more understanding of the figures the data should be focusing on a smaller segment. For this purpose as an example Europe can be considered. But in the provided database there is no information of what countries are actually Europe. This information will be extracted from a Wikipedia page as followed."
   ]
  },
  {
   "cell_type": "markdown",
   "metadata": {},
   "source": [
    "### 3. Extracting info from a Wikipedia page"
   ]
  },
  {
   "cell_type": "code",
   "execution_count": 24,
   "metadata": {
    "collapsed": false,
    "scrolled": true
   },
   "outputs": [
    {
     "name": "stdout",
     "output_type": "stream",
     "text": [
      "['Albania', 'Andorra', 'Armenia', 'Austria', 'Azerbaijan', 'Belarus', 'Belgium', 'Bosnia and Herzegovina', 'Bulgaria', 'Croatia', 'Cyprus', 'Czech Republic', 'Denmark', 'Estonia', 'Finland', 'France', 'Georgia', 'Germany', 'Greece', 'Hungary', 'Iceland', 'Ireland', 'Italy', 'Kazakhstan', 'Latvia', 'Liechtenstein', 'Lithuania', 'Luxembourg', 'Macedonia', 'Malta', 'Moldova', 'Monaco', 'Montenegro', 'Netherlands', 'Norway', 'Poland', 'Portugal', 'Romania', 'Russia', 'San Marino', 'Serbia', 'Slovakia', 'Slovenia', 'Spain', 'Sweden', 'Switzerland', 'Turkey', 'Ukraine', 'United Kingdom', 'Vatican City']\n"
     ]
    }
   ],
   "source": [
    "import wikipedia\n",
    "import requests\n",
    "from bs4 import BeautifulSoup\n",
    "\n",
    "wikipedia.search(\"Europe\")\n",
    "\n",
    "europe = wikipedia.page(\"Europe\")\n",
    "req = requests.get(europe.url)\n",
    "soup = BeautifulSoup(req.content, \"lxml\") \n",
    "wikitables = soup.findAll(\"table\", {\"class\": \"sortable\"} )\n",
    "\n",
    "\n",
    "names = []\n",
    "for row in wikitables[0].findAll(\"tr\"):\n",
    "    cells = row.findAll(\"td\")\n",
    "    if len(cells) == 8:\n",
    "        name = cells[2].find(text=True)\n",
    "        names.append(name)\n",
    "\n",
    "print (names)"
   ]
  },
  {
   "cell_type": "markdown",
   "metadata": {},
   "source": [
    "### 4. Restricting the initial database for European countries only"
   ]
  },
  {
   "cell_type": "code",
   "execution_count": 84,
   "metadata": {
    "collapsed": false
   },
   "outputs": [
    {
     "name": "stdout",
     "output_type": "stream",
     "text": [
      "Countries that were not found:  ['Slovakia', 'Vatican City']\n",
      "   Country Name Country Code       1960       1961       1962       1963  \\\n",
      "3       Albania          ALB  1608800.0  1659800.0  1711319.0  1762621.0   \n",
      "4       Andorra          AND    13411.0    14375.0    15370.0    16412.0   \n",
      "8       Armenia          ARM  1874120.0  1941491.0  2009526.0  2077575.0   \n",
      "12      Austria          AUT  7047539.0  7086299.0  7129864.0  7175811.0   \n",
      "13   Azerbaijan          AZE  3895396.0  4030320.0  4171425.0  4315128.0   \n",
      "\n",
      "         1964       1965       1966       1967     ...            2009  \\\n",
      "3   1814135.0  1864791.0  1914573.0  1965598.0     ...       2927519.0   \n",
      "4     17469.0    18549.0    19647.0    20758.0     ...         84462.0   \n",
      "8   2144998.0  2211316.0  2276031.0  2339124.0     ...       2888584.0   \n",
      "12  7223801.0  7270889.0  7322066.0  7376998.0     ...       8343323.0   \n",
      "13  4456689.0  4592610.0  4721525.0  4843870.0     ...       8947243.0   \n",
      "\n",
      "         2010       2011       2012       2013       2014       2015  \\\n",
      "3   2913021.0  2905195.0  2900401.0  2895092.0  2889104.0  2880703.0   \n",
      "4     84449.0    83751.0    82431.0    80788.0    79223.0    78014.0   \n",
      "8   2877311.0  2875581.0  2881922.0  2893509.0  2906220.0  2916950.0   \n",
      "12  8363404.0  8391643.0  8429991.0  8479375.0  8541575.0  8633169.0   \n",
      "13  9054332.0  9173082.0  9295784.0  9416801.0  9535079.0  9649341.0   \n",
      "\n",
      "         2016  Unnamed: 61  bool_europe  \n",
      "3   2876101.0          NaN         True  \n",
      "4     77281.0          NaN         True  \n",
      "8   2924816.0          NaN         True  \n",
      "12  8747358.0          NaN         True  \n",
      "13  9762274.0          NaN         True  \n",
      "\n",
      "[5 rows x 61 columns]\n"
     ]
    }
   ],
   "source": [
    "def check_the_findings(list_of_countries):\n",
    "    \n",
    "    '''checking whether the function build_a_list_of countries found all names'''\n",
    "    \n",
    "    countries_europe = build_a_list_of_countries(list_of_countries)\n",
    "\n",
    "    if len(countries_europe) < len(list_of_countries):\n",
    "        \n",
    "        not_found = []\n",
    "\n",
    "        for country in list_of_countries:\n",
    "            if country not in countries_europe:\n",
    "                not_found.append(country)\n",
    "    \n",
    "        to_remove = []\n",
    "        for nf_country in not_found:\n",
    "            for country in countries_europe:\n",
    "                if nf_country in country:\n",
    "                    to_remove.append(nf_country)\n",
    "    \n",
    "        [not_found.remove(i) for i in to_remove]\n",
    "    \n",
    "    return not_found\n",
    "\n",
    "\n",
    "def build_a_list_of_countries(list_of_countries):\n",
    "    \n",
    "    '''building a list of countries according to their name in the data'''\n",
    "    \n",
    "    countries_europe = []\n",
    "\n",
    "    for country in list_of_countries:\n",
    "        for i in range(0, len(data[\"Country Name\"])):\n",
    "            if country in data[\"Country Name\"][i]:\n",
    "                countries_europe.append(data[\"Country Name\"][i])\n",
    "                \n",
    "    return(countries_europe)\n",
    "\n",
    "\n",
    "def apply_a_filter(list_of_countries):    \n",
    "    \n",
    "    '''applying a filter on the given database, european countries in this example'''\n",
    "\n",
    "    bool_europe = []\n",
    "    for index, row in data.iterrows():\n",
    "        if data[\"Country Name\"][index] in list_of_countries:\n",
    "            bool_europe.append(True)\n",
    "        else:\n",
    "            bool_europe.append(False)\n",
    "    data[\"bool_europe\"] = bool_europe\n",
    "    data_to_plot = data[data[\"bool_europe\"]]\n",
    "    return data_to_plot\n",
    "    \n",
    "print(\"Countries that were not found: \", check_the_findings(names))\n",
    "\n",
    "#print(\"Slovakia in data: \", data[\"Country Name\"][data[\"Country Code\"]==\"SVK\"]) # is called Slovak Republic in the data\n",
    "#print(\"Vatican in data \", data[\"Country Name\"][data[\"Country Code\"]==\"VA\"]) # not found\n",
    "\n",
    "countries_europe = build_a_list_of_countries(names)\n",
    "countries_europe.append(\"Slovak Republic\")\n",
    "\n",
    "data_to_plot_europe = apply_a_filter(countries_europe)\n",
    "print(data_to_plot_europe.head())\n",
    "\n"
   ]
  },
  {
   "cell_type": "markdown",
   "metadata": {},
   "source": [
    "### 5. Redrawing the map for Europe area only "
   ]
  },
  {
   "cell_type": "code",
   "execution_count": 85,
   "metadata": {
    "collapsed": false
   },
   "outputs": [
    {
     "data": {
      "text/html": [
       "<iframe src=plot_europe.html width=700 height=450></iframe>"
      ],
      "text/plain": [
       "<IPython.core.display.HTML object>"
      ]
     },
     "execution_count": 85,
     "metadata": {},
     "output_type": "execute_result"
    }
   ],
   "source": [
    "def draw_europe(year):\n",
    "    \n",
    "    '''drawing the population map for european countries only'''\n",
    "    \n",
    "    threshold = np.linspace(data_to_plot_europe[year].min(), data_to_plot_europe[year].max(), 6, dtype = int).tolist()\n",
    "    map_europe = folium.Map(location=[60, 30], tiles='cartodbpositron', zoom_start=3)\n",
    "    map_europe.choropleth(geo_data=country_geo, name='choropleth', data=data_to_plot_europe, columns=['Country Code', year], key_on='feature.id', fill_color='YlGnBu', fill_opacity=0.7, line_opacity=0.2, threshold_scale = threshold, legend_name='Population')\n",
    "    #map_europe.save('plot_europe.html') #is commented out for demo reasons\n",
    "    return HTML('<iframe src=https://github.com/mlynckat/World-s-population-with-folium/blob/master/plot_europe.html width=700 height=450></iframe>')\n",
    "\n",
    "draw_europe(\"2015\")\n"
   ]
  },
  {
   "cell_type": "markdown",
   "metadata": {},
   "source": [
    "After focusing on plotting of the european map only, there is much more information to be taken from the illustration. For example, expectedly the giant Russian Federation is the only one country in the interval with the most population in Europe: more than 115,284,088 people. All Scandinavian countries are another example of information given by this way of presenting the results: all the countries are in the segment of less than 28,845,742 people.\n",
    "However this data is only representing the year 2015. To see the information about the population from other years, some interactivity must be added. "
   ]
  },
  {
   "cell_type": "markdown",
   "metadata": {},
   "source": [
    "### 6. Interactivity. Representation of different years"
   ]
  },
  {
   "cell_type": "code",
   "execution_count": 87,
   "metadata": {
    "collapsed": false
   },
   "outputs": [
    {
     "data": {
      "text/html": [
       "<iframe src=plot_europe.html width=700 height=450></iframe>"
      ],
      "text/plain": [
       "<IPython.core.display.HTML object>"
      ]
     },
     "metadata": {},
     "output_type": "display_data"
    }
   ],
   "source": [
    "from ipywidgets import widgets, Layout, Label, interact\n",
    "from IPython.display import display, HTML\n",
    "import traitlets\n",
    "\n",
    "columns = data.columns.tolist()\n",
    "columns = columns[4:-2]\n",
    "\n",
    "\n",
    "selection = widgets.SelectionSlider(description = \"Which year should be graphed?\", options = columns, value=\"2010\", continuous_update=False, layout=Layout(width='70%', height='80px'))\n",
    "\n",
    "year = selection.value\n",
    "\n",
    "interact(draw_europe, year=selection)\n",
    "    \n",
    "\n"
   ]
  },
  {
   "cell_type": "markdown",
   "metadata": {},
   "source": [
    "Now having the possibility to compare the data from different years we can see for example how the population of Italy shrunk from being in the third biggest segment to the second biggest in the beginning of 80's. Or on the contrary, it can be seen how population of France and Turkey grew in the 90's and these countries moved from the fourth biggest segment to the third biggest. This conclusions are relative though since the segments are calculated on the basis of the most and the least populated countries of a certain year. "
   ]
  }
 ],
 "metadata": {
  "kernelspec": {
   "display_name": "Python 3",
   "language": "python",
   "name": "python3"
  },
  "language_info": {
   "codemirror_mode": {
    "name": "ipython",
    "version": 3
   },
   "file_extension": ".py",
   "mimetype": "text/x-python",
   "name": "python",
   "nbconvert_exporter": "python",
   "pygments_lexer": "ipython3",
   "version": "3.6.0"
  },
  "widgets": {
   "state": {
    "7a2943fba8cc42dfb152d73447254b0e": {
     "views": [
      {
       "cell_index": 14
      }
     ]
    }
   },
   "version": "1.2.0"
  }
 },
 "nbformat": 4,
 "nbformat_minor": 2
}
