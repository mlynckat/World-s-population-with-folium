{
 "cells": [
  {
   "cell_type": "markdown",
   "metadata": {},
   "source": [
    "\n",
    "# Exploration of a DataSet World's Population\n"
   ]
  },
  {
   "cell_type": "markdown",
   "metadata": {},
   "source": [
    "### 1. Importing the libraries and necessary DataSets (World's population, Countries geographically for Folium)"
   ]
  },
  {
   "cell_type": "code",
   "execution_count": 10,
   "metadata": {
    "collapsed": false
   },
   "outputs": [
    {
     "data": {
      "text/html": [
       "<div>\n",
       "<table border=\"1\" class=\"dataframe\">\n",
       "  <thead>\n",
       "    <tr style=\"text-align: right;\">\n",
       "      <th></th>\n",
       "      <th>Country Name</th>\n",
       "      <th>Country Code</th>\n",
       "      <th>Indicator Name</th>\n",
       "      <th>Indicator Code</th>\n",
       "      <th>1960</th>\n",
       "      <th>1961</th>\n",
       "      <th>1962</th>\n",
       "      <th>1963</th>\n",
       "      <th>1964</th>\n",
       "      <th>1965</th>\n",
       "      <th>...</th>\n",
       "      <th>2008</th>\n",
       "      <th>2009</th>\n",
       "      <th>2010</th>\n",
       "      <th>2011</th>\n",
       "      <th>2012</th>\n",
       "      <th>2013</th>\n",
       "      <th>2014</th>\n",
       "      <th>2015</th>\n",
       "      <th>2016</th>\n",
       "      <th>Unnamed: 61</th>\n",
       "    </tr>\n",
       "  </thead>\n",
       "  <tbody>\n",
       "    <tr>\n",
       "      <th>0</th>\n",
       "      <td>Aruba</td>\n",
       "      <td>ABW</td>\n",
       "      <td>Population, total</td>\n",
       "      <td>SP.POP.TOTL</td>\n",
       "      <td>54211.0</td>\n",
       "      <td>55438.0</td>\n",
       "      <td>56225.0</td>\n",
       "      <td>56695.0</td>\n",
       "      <td>57032.0</td>\n",
       "      <td>57360.0</td>\n",
       "      <td>...</td>\n",
       "      <td>101353.0</td>\n",
       "      <td>101453.0</td>\n",
       "      <td>101669.0</td>\n",
       "      <td>102053.0</td>\n",
       "      <td>102577.0</td>\n",
       "      <td>103187.0</td>\n",
       "      <td>103795.0</td>\n",
       "      <td>104341.0</td>\n",
       "      <td>104822.0</td>\n",
       "      <td>NaN</td>\n",
       "    </tr>\n",
       "    <tr>\n",
       "      <th>1</th>\n",
       "      <td>Afghanistan</td>\n",
       "      <td>AFG</td>\n",
       "      <td>Population, total</td>\n",
       "      <td>SP.POP.TOTL</td>\n",
       "      <td>8996351.0</td>\n",
       "      <td>9166764.0</td>\n",
       "      <td>9345868.0</td>\n",
       "      <td>9533954.0</td>\n",
       "      <td>9731361.0</td>\n",
       "      <td>9938414.0</td>\n",
       "      <td>...</td>\n",
       "      <td>27294031.0</td>\n",
       "      <td>28004331.0</td>\n",
       "      <td>28803167.0</td>\n",
       "      <td>29708599.0</td>\n",
       "      <td>30696958.0</td>\n",
       "      <td>31731688.0</td>\n",
       "      <td>32758020.0</td>\n",
       "      <td>33736494.0</td>\n",
       "      <td>34656032.0</td>\n",
       "      <td>NaN</td>\n",
       "    </tr>\n",
       "    <tr>\n",
       "      <th>2</th>\n",
       "      <td>Angola</td>\n",
       "      <td>AGO</td>\n",
       "      <td>Population, total</td>\n",
       "      <td>SP.POP.TOTL</td>\n",
       "      <td>5643182.0</td>\n",
       "      <td>5753024.0</td>\n",
       "      <td>5866061.0</td>\n",
       "      <td>5980417.0</td>\n",
       "      <td>6093321.0</td>\n",
       "      <td>6203299.0</td>\n",
       "      <td>...</td>\n",
       "      <td>21759420.0</td>\n",
       "      <td>22549547.0</td>\n",
       "      <td>23369131.0</td>\n",
       "      <td>24218565.0</td>\n",
       "      <td>25096150.0</td>\n",
       "      <td>25998340.0</td>\n",
       "      <td>26920466.0</td>\n",
       "      <td>27859305.0</td>\n",
       "      <td>28813463.0</td>\n",
       "      <td>NaN</td>\n",
       "    </tr>\n",
       "    <tr>\n",
       "      <th>3</th>\n",
       "      <td>Albania</td>\n",
       "      <td>ALB</td>\n",
       "      <td>Population, total</td>\n",
       "      <td>SP.POP.TOTL</td>\n",
       "      <td>1608800.0</td>\n",
       "      <td>1659800.0</td>\n",
       "      <td>1711319.0</td>\n",
       "      <td>1762621.0</td>\n",
       "      <td>1814135.0</td>\n",
       "      <td>1864791.0</td>\n",
       "      <td>...</td>\n",
       "      <td>2947314.0</td>\n",
       "      <td>2927519.0</td>\n",
       "      <td>2913021.0</td>\n",
       "      <td>2905195.0</td>\n",
       "      <td>2900401.0</td>\n",
       "      <td>2895092.0</td>\n",
       "      <td>2889104.0</td>\n",
       "      <td>2880703.0</td>\n",
       "      <td>2876101.0</td>\n",
       "      <td>NaN</td>\n",
       "    </tr>\n",
       "    <tr>\n",
       "      <th>4</th>\n",
       "      <td>Andorra</td>\n",
       "      <td>AND</td>\n",
       "      <td>Population, total</td>\n",
       "      <td>SP.POP.TOTL</td>\n",
       "      <td>13411.0</td>\n",
       "      <td>14375.0</td>\n",
       "      <td>15370.0</td>\n",
       "      <td>16412.0</td>\n",
       "      <td>17469.0</td>\n",
       "      <td>18549.0</td>\n",
       "      <td>...</td>\n",
       "      <td>83861.0</td>\n",
       "      <td>84462.0</td>\n",
       "      <td>84449.0</td>\n",
       "      <td>83751.0</td>\n",
       "      <td>82431.0</td>\n",
       "      <td>80788.0</td>\n",
       "      <td>79223.0</td>\n",
       "      <td>78014.0</td>\n",
       "      <td>77281.0</td>\n",
       "      <td>NaN</td>\n",
       "    </tr>\n",
       "  </tbody>\n",
       "</table>\n",
       "<p>5 rows × 62 columns</p>\n",
       "</div>"
      ],
      "text/plain": [
       "  Country Name Country Code     Indicator Name Indicator Code       1960  \\\n",
       "0        Aruba          ABW  Population, total    SP.POP.TOTL    54211.0   \n",
       "1  Afghanistan          AFG  Population, total    SP.POP.TOTL  8996351.0   \n",
       "2       Angola          AGO  Population, total    SP.POP.TOTL  5643182.0   \n",
       "3      Albania          ALB  Population, total    SP.POP.TOTL  1608800.0   \n",
       "4      Andorra          AND  Population, total    SP.POP.TOTL    13411.0   \n",
       "\n",
       "        1961       1962       1963       1964       1965     ...       \\\n",
       "0    55438.0    56225.0    56695.0    57032.0    57360.0     ...        \n",
       "1  9166764.0  9345868.0  9533954.0  9731361.0  9938414.0     ...        \n",
       "2  5753024.0  5866061.0  5980417.0  6093321.0  6203299.0     ...        \n",
       "3  1659800.0  1711319.0  1762621.0  1814135.0  1864791.0     ...        \n",
       "4    14375.0    15370.0    16412.0    17469.0    18549.0     ...        \n",
       "\n",
       "         2008        2009        2010        2011        2012        2013  \\\n",
       "0    101353.0    101453.0    101669.0    102053.0    102577.0    103187.0   \n",
       "1  27294031.0  28004331.0  28803167.0  29708599.0  30696958.0  31731688.0   \n",
       "2  21759420.0  22549547.0  23369131.0  24218565.0  25096150.0  25998340.0   \n",
       "3   2947314.0   2927519.0   2913021.0   2905195.0   2900401.0   2895092.0   \n",
       "4     83861.0     84462.0     84449.0     83751.0     82431.0     80788.0   \n",
       "\n",
       "         2014        2015        2016  Unnamed: 61  \n",
       "0    103795.0    104341.0    104822.0          NaN  \n",
       "1  32758020.0  33736494.0  34656032.0          NaN  \n",
       "2  26920466.0  27859305.0  28813463.0          NaN  \n",
       "3   2889104.0   2880703.0   2876101.0          NaN  \n",
       "4     79223.0     78014.0     77281.0          NaN  \n",
       "\n",
       "[5 rows x 62 columns]"
      ]
     },
     "execution_count": 10,
     "metadata": {},
     "output_type": "execute_result"
    }
   ],
   "source": [
    "import pandas as pd\n",
    "import folium\n",
    "import numpy as np\n",
    "import matplotlib.pyplot as plt\n",
    "import json\n",
    "data = pd.read_csv('./data_population.csv', sep=',', skiprows = 1, header = 1)\n",
    "country_geo = json.dumps(json.load(open('world-countries.json', 'r'))) #data for representing countries as a map\n",
    "\n",
    "data.head()"
   ]
  },
  {
   "cell_type": "markdown",
   "metadata": {},
   "source": [
    "### 2. Data visualisation using Folium"
   ]
  },
  {
   "cell_type": "code",
   "execution_count": 21,
   "metadata": {
    "collapsed": false
   },
   "outputs": [
    {
     "data": {
      "text/html": [
       "<iframe src=plot_world.html width=700 height=450></iframe>"
      ],
      "text/plain": [
       "<IPython.core.display.HTML object>"
      ]
     },
     "execution_count": 21,
     "metadata": {},
     "output_type": "execute_result"
    }
   ],
   "source": [
    "from IPython.display import HTML\n",
    "\n",
    "def draw_the_map(year):\n",
    "    \n",
    "    '''function for drawing the map and assignment of the colors'''\n",
    "    \n",
    "    threshold = np.linspace(data[year].min(), 1500000000, 6, dtype = int).tolist()\n",
    "    map_world = folium.Map(location=[30, 0], zoom_start=1)\n",
    "    map_world.choropleth(geo_data=country_geo, name='choropleth', data=data, columns=['Country Code', year], key_on='feature.id', fill_color='YlGnBu', fill_opacity=0.7, line_opacity=0.2, threshold_scale = threshold)\n",
    "    #map_world.save('plot_world.html') #is commented out for demo reasons\n",
    "\n",
    "    return HTML('<iframe src=https://github.com/mlynckat/World-s-population-with-folium/blob/master/plot_world.html width=700 height=450></iframe>')\n",
    "\n",
    "draw_the_map(\"2015\")"
   ]
  },
  {
   "cell_type": "markdown",
   "metadata": {},
   "source": [
    "Unfortunately this way of visualisation is not meaningful. The map is only providing the information that China and India have the most population, followed by the USA. All the other countries are still in the same segment 10'000-300'000'000. To get more understanding of the figures the data should be focusing on a smaller segment. For this purpose as an example Europe can be considered. But in the provided database there is no information of what countries are actually Europe. This information will be extracted from a Wikipedia page as followed."
   ]
  },
  {
   "cell_type": "markdown",
   "metadata": {},
   "source": [
    "### 3. Extracting info from a Wikipedia page"
   ]
  },
  {
   "cell_type": "code",
   "execution_count": 24,
   "metadata": {
    "collapsed": false,
    "scrolled": true
   },
   "outputs": [
    {
     "name": "stdout",
     "output_type": "stream",
     "text": [
      "['Albania', 'Andorra', 'Armenia', 'Austria', 'Azerbaijan', 'Belarus', 'Belgium', 'Bosnia and Herzegovina', 'Bulgaria', 'Croatia', 'Cyprus', 'Czech Republic', 'Denmark', 'Estonia', 'Finland', 'France', 'Georgia', 'Germany', 'Greece', 'Hungary', 'Iceland', 'Ireland', 'Italy', 'Kazakhstan', 'Latvia', 'Liechtenstein', 'Lithuania', 'Luxembourg', 'Macedonia', 'Malta', 'Moldova', 'Monaco', 'Montenegro', 'Netherlands', 'Norway', 'Poland', 'Portugal', 'Romania', 'Russia', 'San Marino', 'Serbia', 'Slovakia', 'Slovenia', 'Spain', 'Sweden', 'Switzerland', 'Turkey', 'Ukraine', 'United Kingdom', 'Vatican City']\n"
     ]
    }
   ],
   "source": [
    "import wikipedia\n",
    "import requests\n",
    "from bs4 import BeautifulSoup\n",
    "\n",
    "wikipedia.search(\"Europe\")\n",
    "\n",
    "europe = wikipedia.page(\"Europe\")\n",
    "req = requests.get(europe.url)\n",
    "soup = BeautifulSoup(req.content, \"lxml\") \n",
    "wikitables = soup.findAll(\"table\", {\"class\": \"sortable\"} )\n",
    "\n",
    "\n",
    "names = []\n",
    "for row in wikitables[0].findAll(\"tr\"):\n",
    "    cells = row.findAll(\"td\")\n",
    "    if len(cells) == 8:\n",
    "        name = cells[2].find(text=True)\n",
    "        names.append(name)\n",
    "\n",
    "print (names)"
   ]
  },
  {
   "cell_type": "markdown",
   "metadata": {},
   "source": [
    "### 4. Restricting the initial database for European countries only"
   ]
  },
  {
   "cell_type": "code",
   "execution_count": 84,
   "metadata": {
    "collapsed": false
   },
   "outputs": [
    {
     "name": "stdout",
     "output_type": "stream",
     "text": [
      "Countries that were not found:  ['Slovakia', 'Vatican City']\n",
      "   Country Name Country Code       1960       1961       1962       1963  \\\n",
      "3       Albania          ALB  1608800.0  1659800.0  1711319.0  1762621.0   \n",
      "4       Andorra          AND    13411.0    14375.0    15370.0    16412.0   \n",
      "8       Armenia          ARM  1874120.0  1941491.0  2009526.0  2077575.0   \n",
      "12      Austria          AUT  7047539.0  7086299.0  7129864.0  7175811.0   \n",
      "13   Azerbaijan          AZE  3895396.0  4030320.0  4171425.0  4315128.0   \n",
      "\n",
      "         1964       1965       1966       1967     ...            2009  \\\n",
      "3   1814135.0  1864791.0  1914573.0  1965598.0     ...       2927519.0   \n",
      "4     17469.0    18549.0    19647.0    20758.0     ...         84462.0   \n",
      "8   2144998.0  2211316.0  2276031.0  2339124.0     ...       2888584.0   \n",
      "12  7223801.0  7270889.0  7322066.0  7376998.0     ...       8343323.0   \n",
      "13  4456689.0  4592610.0  4721525.0  4843870.0     ...       8947243.0   \n",
      "\n",
      "         2010       2011       2012       2013       2014       2015  \\\n",
      "3   2913021.0  2905195.0  2900401.0  2895092.0  2889104.0  2880703.0   \n",
      "4     84449.0    83751.0    82431.0    80788.0    79223.0    78014.0   \n",
      "8   2877311.0  2875581.0  2881922.0  2893509.0  2906220.0  2916950.0   \n",
      "12  8363404.0  8391643.0  8429991.0  8479375.0  8541575.0  8633169.0   \n",
      "13  9054332.0  9173082.0  9295784.0  9416801.0  9535079.0  9649341.0   \n",
      "\n",
      "         2016  Unnamed: 61  bool_europe  \n",
      "3   2876101.0          NaN         True  \n",
      "4     77281.0          NaN         True  \n",
      "8   2924816.0          NaN         True  \n",
      "12  8747358.0          NaN         True  \n",
      "13  9762274.0          NaN         True  \n",
      "\n",
      "[5 rows x 61 columns]\n"
     ]
    }
   ],
   "source": [
    "def check_the_findings(list_of_countries):\n",
    "    \n",
    "    '''checking whether the function build_a_list_of countries found all names'''\n",
    "    \n",
    "    countries_europe = build_a_list_of_countries(list_of_countries)\n",
    "\n",
    "    if len(countries_europe) < len(list_of_countries):\n",
    "        \n",
    "        not_found = []\n",
    "\n",
    "        for country in list_of_countries:\n",
    "            if country not in countries_europe:\n",
    "                not_found.append(country)\n",
    "    \n",
    "        to_remove = []\n",
    "        for nf_country in not_found:\n",
    "            for country in countries_europe:\n",
    "                if nf_country in country:\n",
    "                    to_remove.append(nf_country)\n",
    "    \n",
    "        [not_found.remove(i) for i in to_remove]\n",
    "    \n",
    "    return not_found\n",
    "\n",
    "\n",
    "def build_a_list_of_countries(list_of_countries):\n",
    "    \n",
    "    '''building a list of countries according to their name in the data'''\n",
    "    \n",
    "    countries_europe = []\n",
    "\n",
    "    for country in list_of_countries:\n",
    "        for i in range(0, len(data[\"Country Name\"])):\n",
    "            if country in data[\"Country Name\"][i]:\n",
    "                countries_europe.append(data[\"Country Name\"][i])\n",
    "                \n",
    "    return(countries_europe)\n",
    "\n",
    "\n",
    "def apply_a_filter(list_of_countries):    \n",
    "    \n",
    "    '''applying a filter on the given database, european countries in this example'''\n",
    "\n",
    "    bool_europe = []\n",
    "    for index, row in data.iterrows():\n",
    "        if data[\"Country Name\"][index] in list_of_countries:\n",
    "            bool_europe.append(True)\n",
    "        else:\n",
    "            bool_europe.append(False)\n",
    "    data[\"bool_europe\"] = bool_europe\n",
    "    data_to_plot = data[data[\"bool_europe\"]]\n",
    "    return data_to_plot\n",
    "    \n",
    "print(\"Countries that were not found: \", check_the_findings(names))\n",
    "\n",
    "#print(\"Slovakia in data: \", data[\"Country Name\"][data[\"Country Code\"]==\"SVK\"]) # is called Slovak Republic in the data\n",
    "#print(\"Vatican in data \", data[\"Country Name\"][data[\"Country Code\"]==\"VA\"]) # not found\n",
    "\n",
    "countries_europe = build_a_list_of_countries(names)\n",
    "countries_europe.append(\"Slovak Republic\")\n",
    "\n",
    "data_to_plot_europe = apply_a_filter(countries_europe)\n",
    "print(data_to_plot_europe.head())\n",
    "\n"
   ]
  },
  {
   "cell_type": "markdown",
   "metadata": {},
   "source": [
    "### 5. Redrawing the map for Europe area only "
   ]
  },
  {
   "cell_type": "code",
   "execution_count": 85,
   "metadata": {
    "collapsed": false
   },
   "outputs": [
    {
     "data": {
      "text/html": [
       "<iframe src=plot_europe.html width=700 height=450></iframe>"
      ],
      "text/plain": [
       "<IPython.core.display.HTML object>"
      ]
     },
     "execution_count": 85,
     "metadata": {},
     "output_type": "execute_result"
    }
   ],
   "source": [
    "def draw_europe(year):\n",
    "    \n",
    "    '''drawing the population map for european countries only'''\n",
    "    \n",
    "    threshold = np.linspace(data_to_plot_europe[year].min(), data_to_plot_europe[year].max(), 6, dtype = int).tolist()\n",
    "    map_europe = folium.Map(location=[60, 30], tiles='cartodbpositron', zoom_start=3)\n",
    "    map_europe.choropleth(geo_data=country_geo, name='choropleth', data=data_to_plot_europe, columns=['Country Code', year], key_on='feature.id', fill_color='YlGnBu', fill_opacity=0.7, line_opacity=0.2, threshold_scale = threshold, legend_name='Population')\n",
    "    #map_europe.save('plot_europe.html') #is commented out for demo reasons\n",
    "    return HTML('<iframe src=https://github.com/mlynckat/World-s-population-with-folium/blob/master/plot_europe.html width=700 height=450></iframe>')\n",
    "\n",
    "draw_europe(\"2015\")\n"
   ]
  },
  {
   "cell_type": "markdown",
   "metadata": {},
   "source": [
    "After focusing on plotting of the european map only, there is much more information to be taken from the illustration. For example, expectedly the giant Russian Federation is the only one country in the interval with the most population in Europe: more than 115,284,088 people. All Scandinavian countries are another example of information given by this way of presenting the results: all the countries are in the segment of less than 28,845,742 people.\n",
    "However this data is only representing the year 2015. To see the information about the population from other years, some interactivity must be added. "
   ]
  },
  {
   "cell_type": "markdown",
   "metadata": {},
   "source": [
    "### 6. Interactivity. Representation of different years"
   ]
  },
  {
   "cell_type": "code",
   "execution_count": 111,
   "metadata": {
    "collapsed": false
   },
   "outputs": [
    {
     "data": {
      "image/png": "[encoded data removed]",
      "text/html": [
       "<img src=data:image/png;base64,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 class=\"jupyter-widget\">\n",
       "<script type=\"application/vnd.jupyter-embedded-widgets\">[{\"height\":\"80px\",\"width\":\"70%\"},{\"_options_labels\":[\"1960\",\"1961\",\"1962\",\"1963\",\"1964\",\"1965\",\"1966\",\"1967\",\"1968\",\"1969\",\"1970\",\"1971\",\"1972\",\"1973\",\"1974\",\"1975\",\"1976\",\"1977\",\"1978\",\"1979\",\"1980\",\"1981\",\"1982\",\"1983\",\"1984\",\"1985\",\"1986\",\"1987\",\"1988\",\"1989\",\"1990\",\"1991\",\"1992\",\"1993\",\"1994\",\"1995\",\"1996\",\"1997\",\"1998\",\"1999\",\"2000\",\"2001\",\"2002\",\"2003\",\"2004\",\"2005\",\"2006\",\"2007\",\"2008\",\"2009\",\"2010\",\"2011\",\"2012\",\"2013\",\"2014\",\"2015\",\"2016\"],\"continuous_update\":false,\"description\":\"Which year should be graphed?\",\"layout\":\"IPY_MODEL_524ffdc09d664ff39edce896b12f710d\",\"value\":\"2010\"},{},{\"_dom_classes\":[\"widget-interact\"],\"children\":[\"IPY_MODEL_b54e8e08216444a788b4f8839157ac70\"],\"layout\":\"IPY_MODEL_8fae7721dceb4480af48ba51b1626ea7\"},{\"height\":\"80px\",\"width\":\"70%\"},{\"_options_labels\":[\"1960\",\"1961\",\"1962\",\"1963\",\"1964\",\"1965\",\"1966\",\"1967\",\"1968\",\"1969\",\"1970\",\"1971\",\"1972\",\"1973\",\"1974\",\"1975\",\"1976\",\"1977\",\"1978\",\"1979\",\"1980\",\"1981\",\"1982\",\"1983\",\"1984\",\"1985\",\"1986\",\"1987\",\"1988\",\"1989\",\"1990\",\"1991\",\"1992\",\"1993\",\"1994\",\"1995\",\"1996\",\"1997\",\"1998\",\"1999\",\"2000\",\"2001\",\"2002\",\"2003\",\"2004\",\"2005\",\"2006\",\"2007\",\"2008\",\"2009\",\"2010\",\"2011\",\"2012\",\"2013\",\"2014\",\"2015\",\"2016\"],\"continuous_update\":false,\"description\":\"Which year should be graphed?\",\"layout\":\"IPY_MODEL_b23b061e25154cd58e96c6bd5784babf\",\"value\":\"2010\"},{},{\"_dom_classes\":[\"widget-interact\"],\"children\":[\"IPY_MODEL_0b0d580b11b54134b017790cccc26c00\"],\"layout\":\"IPY_MODEL_a5f6d10f4f584f5d91cb787c0affc899\"}]</script>"
      ]
     },
     "metadata": {
      "isWidgetSnapshot": true
     },
     "output_type": "display_data"
    },
    {
     "data": {
      "image/png": "[encoded data removed]",
      "text/html": [
       "<img src=data:image/png;base64,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 class=\"jupyter-widget\">\n",
       "<script type=\"application/vnd.jupyter-embedded-widgets\">[{\"height\":\"80px\",\"width\":\"70%\"},{\"_options_labels\":[\"1960\",\"1961\",\"1962\",\"1963\",\"1964\",\"1965\",\"1966\",\"1967\",\"1968\",\"1969\",\"1970\",\"1971\",\"1972\",\"1973\",\"1974\",\"1975\",\"1976\",\"1977\",\"1978\",\"1979\",\"1980\",\"1981\",\"1982\",\"1983\",\"1984\",\"1985\",\"1986\",\"1987\",\"1988\",\"1989\",\"1990\",\"1991\",\"1992\",\"1993\",\"1994\",\"1995\",\"1996\",\"1997\",\"1998\",\"1999\",\"2000\",\"2001\",\"2002\",\"2003\",\"2004\",\"2005\",\"2006\",\"2007\",\"2008\",\"2009\",\"2010\",\"2011\",\"2012\",\"2013\",\"2014\",\"2015\",\"2016\"],\"continuous_update\":false,\"description\":\"Which year should be graphed?\",\"layout\":\"IPY_MODEL_524ffdc09d664ff39edce896b12f710d\",\"value\":\"2010\"},{},{\"_dom_classes\":[\"widget-interact\"],\"children\":[\"IPY_MODEL_b54e8e08216444a788b4f8839157ac70\"],\"layout\":\"IPY_MODEL_8fae7721dceb4480af48ba51b1626ea7\"},{\"height\":\"80px\",\"width\":\"70%\"},{\"_options_labels\":[\"1960\",\"1961\",\"1962\",\"1963\",\"1964\",\"1965\",\"1966\",\"1967\",\"1968\",\"1969\",\"1970\",\"1971\",\"1972\",\"1973\",\"1974\",\"1975\",\"1976\",\"1977\",\"1978\",\"1979\",\"1980\",\"1981\",\"1982\",\"1983\",\"1984\",\"1985\",\"1986\",\"1987\",\"1988\",\"1989\",\"1990\",\"1991\",\"1992\",\"1993\",\"1994\",\"1995\",\"1996\",\"1997\",\"1998\",\"1999\",\"2000\",\"2001\",\"2002\",\"2003\",\"2004\",\"2005\",\"2006\",\"2007\",\"2008\",\"2009\",\"2010\",\"2011\",\"2012\",\"2013\",\"2014\",\"2015\",\"2016\"],\"continuous_update\":false,\"description\":\"Which year should be graphed?\",\"layout\":\"IPY_MODEL_b23b061e25154cd58e96c6bd5784babf\",\"value\":\"2010\"},{},{\"_dom_classes\":[\"widget-interact\"],\"children\":[\"IPY_MODEL_0b0d580b11b54134b017790cccc26c00\"],\"layout\":\"IPY_MODEL_a5f6d10f4f584f5d91cb787c0affc899\"}]</script>"
      ]
     },
     "metadata": {
      "isWidgetSnapshot": true
     },
     "output_type": "display_data"
    },
    {
     "data": {
      "text/html": [
       "<iframe src=plot_europe.html width=700 height=450></iframe>"
      ],
      "text/plain": [
       "<IPython.core.display.HTML object>"
      ]
     },
     "metadata": {},
     "output_type": "display_data"
    }
   ],
   "source": [
    "from ipywidgets import widgets, Layout, Label, interactive\n",
    "from IPython.display import display, HTML\n",
    "import traitlets\n",
    "\n",
    "\n",
    "columns = data.columns.tolist()\n",
    "columns = columns[2:-2]\n",
    "\n",
    "\n",
    "selection = widgets.SelectionSlider(description = \"Which year should be graphed?\", options = columns, value=\"2010\", continuous_update=False, layout=Layout(width='70%', height='80px'))\n",
    "\n",
    "year = selection.value\n",
    "\n",
    "w=widgets.interactive(draw_europe, year=selection)\n",
    "display(w)\n",
    "\n"
   ]
  },
  {
   "cell_type": "markdown",
   "metadata": {},
   "source": [
    "Now having the possibility to compare the data from different years we can see for example how the population of Italy shrunk from being in the third biggest segment to the second biggest in the beginning of 80's. Or on the contrary, it can be seen how population of France and Turkey grew in the 90's and these countries moved from the fourth biggest segment to the third biggest. This conclusions are relative though since the segments are calculated on the basis of the most and the least populated countries of a certain year. "
   ]
  }
 ],
 "metadata": {
  "kernelspec": {
   "display_name": "Python 3",
   "language": "python",
   "name": "python3"
  },
  "language_info": {
   "codemirror_mode": {
    "name": "ipython",
    "version": 3
   },
   "file_extension": ".py",
   "mimetype": "text/x-python",
   "name": "python",
   "nbconvert_exporter": "python",
   "pygments_lexer": "ipython3",
   "version": "3.6.0"
  },
  "widgets": {
   "state": {
    "84a27e320bf84216b730ef9794d74b2e": {
     "views": [
      {
       "cell_index": 14
      }
     ]
    },
    "86481a0acb5e429aac4778683efe07ad": {
     "views": [
      {
       "cell_index": 14
      }
     ]
    }
   },
   "version": "1.2.0"
  }
 },
 "nbformat": 4,
 "nbformat_minor": 2
}
